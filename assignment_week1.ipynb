{
 "cells": [
  {
   "cell_type": "code",
   "execution_count": 7,
   "id": "4e1d8cf8",
   "metadata": {},
   "outputs": [
    {
     "name": "stdout",
     "output_type": "stream",
     "text": [
      "Requirement already satisfied: scipy in ./.venv/lib/python3.12/site-packages (1.15.2)\n",
      "Requirement already satisfied: numpy<2.5,>=1.23.5 in ./.venv/lib/python3.12/site-packages (from scipy) (2.2.5)\n",
      "Note: you may need to restart the kernel to use updated packages.\n",
      "        Datum  Bewoelkung  Temperatur  Windgeschwindigkeit  Wettercode\n",
      "0  2012-01-01         8.0      9.8250                   14        58.0\n",
      "1  2012-01-02         7.0      7.4375                   12         NaN\n",
      "2  2012-01-03         8.0      5.5375                   18        63.0\n",
      "3  2012-01-04         4.0      5.6875                   19        80.0\n",
      "4  2012-01-05         6.0      5.3000                   23        80.0\n"
     ]
    }
   ],
   "source": [
    "%pip install scipy\n",
    "import pandas as pd\n",
    "import scipy.stats as stats\n",
    "\n",
    "# Read the CSV file into a DataFrame\n",
    "df = pd.read_csv('wetter.csv')\n",
    "# Display the first few rows of the DataFrame\n",
    "print(df.head())\n"
   ]
  },
  {
   "cell_type": "code",
   "execution_count": 8,
   "id": "93a46413",
   "metadata": {},
   "outputs": [
    {
     "name": "stdout",
     "output_type": "stream",
     "text": [
      "Overall average temperature: 12.10°C\n"
     ]
    }
   ],
   "source": [
    "# Calculate the overall average temperature\n",
    "overall_avg_temp = df['Temperatur'].mean()\n",
    "print(f\"Overall average temperature: {overall_avg_temp:.2f}°C\")"
   ]
  },
  {
   "cell_type": "code",
   "execution_count": 9,
   "id": "fd17a164",
   "metadata": {},
   "outputs": [
    {
     "name": "stdout",
     "output_type": "stream",
     "text": [
      "Average temperature in July: 20.75°C\n"
     ]
    }
   ],
   "source": [
    "# Extract the month from the 'Datum' column\n",
    "df['Monat'] = pd.to_datetime(df['Datum']).dt.month\n",
    "\n",
    "# Calculate the average temperature for the month of July\n",
    "july_avg_temp = df[df['Monat'] == 7]['Temperatur'].mean()\n",
    "print(f\"Average temperature in July: {july_avg_temp:.2f}°C\")"
   ]
  },
  {
   "cell_type": "code",
   "execution_count": 10,
   "id": "aefb64f3",
   "metadata": {},
   "outputs": [
    {
     "name": "stdout",
     "output_type": "stream",
     "text": [
      "T-statistic: 15.94, P-value: 0.0000\n",
      "The difference in average temperatures between July and May is significant.\n"
     ]
    }
   ],
   "source": [
    "# Compare whether the months of July and May differ significantly in their average temperature. Show the p-value and the t-statistic and state if the difference is significant.\n",
    "july_temps = df[df['Monat'] == 7]['Temperatur']\n",
    "may_temps = df[df['Monat'] == 5]['Temperatur']\n",
    "t_stat, p_value = stats.ttest_ind(july_temps, may_temps)\n",
    "print(f\"T-statistic: {t_stat:.2f}, P-value: {p_value:.4f}\")\n",
    "if p_value < 0.05:\n",
    "    print(\"The difference in average temperatures between July and May is significant.\")\n",
    "else:\n",
    "    print(\"The difference in average temperatures between July and May is not significant.\")\n"
   ]
  }
 ],
 "metadata": {
  "kernelspec": {
   "display_name": ".venv",
   "language": "python",
   "name": "python3"
  },
  "language_info": {
   "codemirror_mode": {
    "name": "ipython",
    "version": 3
   },
   "file_extension": ".py",
   "mimetype": "text/x-python",
   "name": "python",
   "nbconvert_exporter": "python",
   "pygments_lexer": "ipython3",
   "version": "3.12.1"
  }
 },
 "nbformat": 4,
 "nbformat_minor": 5
}
