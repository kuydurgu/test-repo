{
 "cells": [
  {
   "cell_type": "code",
   "execution_count": 9,
   "id": "bc480407",
   "metadata": {},
   "outputs": [
    {
     "name": "stdout",
     "output_type": "stream",
     "text": [
      "        id       Datum  Warengruppe      Umsatz\n",
      "0  1307011  2013-07-01            1  148.828353\n",
      "1  1307021  2013-07-02            1  159.793757\n",
      "2  1307031  2013-07-03            1  111.885594\n",
      "3  1307041  2013-07-04            1  168.864941\n",
      "4  1307051  2013-07-05            1  171.280754\n",
      "        Datum  Bewoelkung  Temperatur  Windgeschwindigkeit  Wettercode\n",
      "0  2012-01-01         8.0      9.8250                   14        58.0\n",
      "1  2012-01-02         7.0      7.4375                   12         NaN\n",
      "2  2012-01-03         8.0      5.5375                   18        63.0\n",
      "3  2012-01-04         4.0      5.6875                   19        80.0\n",
      "4  2012-01-05         6.0      5.3000                   23        80.0\n",
      "        Datum  KielerWoche\n",
      "0  2012-06-16            1\n",
      "1  2012-06-17            1\n",
      "2  2012-06-18            1\n",
      "3  2012-06-19            1\n",
      "4  2012-06-20            1\n",
      "        id       Datum  Warengruppe      Umsatz  Bewoelkung  Temperatur  \\\n",
      "0  1406211  2014-06-21            1  162.410673         6.0     15.5125   \n",
      "1  1406221  2014-06-22            1   99.627613         5.0     15.7000   \n",
      "2  1406231  2014-06-23            1  130.997405         4.0     16.5000   \n",
      "3  1406241  2014-06-24            1  119.068456         7.0     14.3625   \n",
      "4  1406251  2014-06-25            1  114.248640         0.0     18.4375   \n",
      "\n",
      "   Windgeschwindigkeit  Wettercode  KielerWoche  \n",
      "0                   18        61.0            1  \n",
      "1                   19         NaN            1  \n",
      "2                   17         NaN            1  \n",
      "3                    7        21.0            1  \n",
      "4                   10         NaN            1  \n"
     ]
    }
   ],
   "source": [
    "import pandas as pd\n",
    "import numpy as np  \n",
    "import matplotlib.pyplot as plt\n",
    "\n",
    "# Read the CSV file into a DataFrame\n",
    "df1 = pd.read_csv('umsatzdaten_gekuerzt.csv')\n",
    "df2 = pd.read_csv('wetter.csv')\n",
    "df3 = pd.read_csv('kiwo.csv')\n",
    "print(df1.head())\n",
    "print(df2.head())\n",
    "print(df3.head())\n",
    "# Merge the DataFrames on the 'Datum' column\n",
    "df = pd.merge(df1, df2, on='Datum')\n",
    "df = pd.merge(df, df3, on='Datum')\n",
    "print(df.head())\n"
   ]
  }
 ],
 "metadata": {
  "kernelspec": {
   "display_name": "Python 3",
   "language": "python",
   "name": "python3"
  },
  "language_info": {
   "codemirror_mode": {
    "name": "ipython",
    "version": 3
   },
   "file_extension": ".py",
   "mimetype": "text/x-python",
   "name": "python",
   "nbconvert_exporter": "python",
   "pygments_lexer": "ipython3",
   "version": "3.9.6"
  }
 },
 "nbformat": 4,
 "nbformat_minor": 5
}
